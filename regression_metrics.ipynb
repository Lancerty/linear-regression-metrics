{
 "cells": [
  {
   "cell_type": "markdown",
   "metadata": {},
   "source": [
    "**Regression Metrics**"
   ]
  },
  {
   "cell_type": "code",
   "execution_count": 6,
   "metadata": {},
   "outputs": [],
   "source": [
    "import numpy as np\n",
    "import pandas as pd\n",
    "import seaborn as sns\n",
    "import tkinter as tk\n",
    "from tkinter import ttk\n",
    "import matplotlib.pyplot as plt\n",
    "from sklearn.linear_model import LinearRegression\n",
    "from sklearn.model_selection import train_test_split"
   ]
  },
  {
   "cell_type": "code",
   "execution_count": 3,
   "metadata": {},
   "outputs": [],
   "source": [
    "data = pd.read_csv(\"marketingdata.csv\")"
   ]
  },
  {
   "cell_type": "code",
   "execution_count": 7,
   "metadata": {},
   "outputs": [
    {
     "data": {
      "text/plain": [
       "<bound method NDFrame.head of            Date  Week  Week_ID  Month  Month_ID    Year   Day_Name  Visitors  \\\n",
       "0      09/11/20  46.0     34.0   11.0      11.0  2020.0     Monday     707.0   \n",
       "1      10/11/20  46.0     34.0   11.0      11.0  2020.0    Tuesday    1455.0   \n",
       "2      11/11/20  46.0     34.0   11.0      11.0  2020.0  Wednesday    1520.0   \n",
       "3      12/11/20  46.0     34.0   11.0      11.0  2020.0   Thursday    1726.0   \n",
       "4    13/11/2020  46.0     34.0   11.0      11.0  2020.0     Friday    2134.0   \n",
       "..          ...   ...      ...    ...       ...     ...        ...       ...   \n",
       "177    05/05/21  19.0     60.0    5.0      17.0  2021.0  Wednesday    1400.0   \n",
       "178    06/05/21  19.0     60.0    5.0      17.0  2021.0   Thursday    2244.0   \n",
       "179    07/05/21  19.0     60.0    5.0      17.0  2021.0     Friday    2023.0   \n",
       "180    08/05/21  19.0     60.0    5.0      17.0  2021.0   Saturday    1483.0   \n",
       "181    09/05/21  20.0     61.0    5.0      17.0  2021.0     Sunday    1303.0   \n",
       "\n",
       "     Revenue  Marketing Spend           Promo  \n",
       "0      465.0       651.375000        No Promo  \n",
       "1    10386.0      1298.250000   Promotion Red  \n",
       "2    12475.0      1559.375000  Promotion Blue  \n",
       "3    11712.0      1801.750000        No Promo  \n",
       "4    10000.0      2614.500000        No Promo  \n",
       "..       ...              ...             ...  \n",
       "177   7284.0      1119.600000        No Promo  \n",
       "178  13021.0      2067.888889   Promotion Red  \n",
       "179   4587.0      1450.200000        No Promo  \n",
       "180   5927.0      1121.875000        No Promo  \n",
       "181   3861.0       871.000000        No Promo  \n",
       "\n",
       "[182 rows x 11 columns]>"
      ]
     },
     "execution_count": 7,
     "metadata": {},
     "output_type": "execute_result"
    }
   ],
   "source": [
    "data.head"
   ]
  },
  {
   "cell_type": "markdown",
   "metadata": {},
   "source": [
    "**Data Pre-Processing**"
   ]
  },
  {
   "cell_type": "code",
   "execution_count": 4,
   "metadata": {},
   "outputs": [
    {
     "name": "stderr",
     "output_type": "stream",
     "text": [
      "C:\\Users\\lance\\AppData\\Local\\Temp\\ipykernel_5176\\1946741929.py:2: FutureWarning: DataFrame.fillna with 'method' is deprecated and will raise in a future version. Use obj.ffill() or obj.bfill() instead.\n",
      "  data.fillna(method='ffill', inplace=True)  # Forward fill\n",
      "C:\\Users\\lance\\AppData\\Local\\Temp\\ipykernel_5176\\1946741929.py:3: FutureWarning: DataFrame.fillna with 'method' is deprecated and will raise in a future version. Use obj.ffill() or obj.bfill() instead.\n",
      "  data.fillna(method='bfill', inplace=True)  # Backward fill\n"
     ]
    }
   ],
   "source": [
    "data.dropna(inplace=True) #drops the empty rows\n",
    "data.fillna(method='ffill', inplace=True)  # Forward fill\n",
    "data.fillna(method='bfill', inplace=True)  # Backward fill"
   ]
  },
  {
   "cell_type": "code",
   "execution_count": 5,
   "metadata": {},
   "outputs": [],
   "source": [
    "from scipy import stats\n",
    "\n",
    "# Define the name of the specific column you want to process\n",
    "column_name = 'Marketing Spend'\n",
    "\n",
    "# Calculate Z-scores for the specified column\n",
    "z_scores = np.abs(stats.zscore(data[column_name]))\n",
    "\n",
    "# Define a threshold to identify outliers (e.g., Z-score > 3)\n",
    "threshold = 3\n",
    "\n",
    "# Create a mask of outliers for the specified column\n",
    "outliers = (z_scores > threshold)\n",
    "\n",
    "# Remove rows with outliers in the specified column\n",
    "cleaned_df = data[~outliers]"
   ]
  }
 ],
 "metadata": {
  "kernelspec": {
   "display_name": "Python 3",
   "language": "python",
   "name": "python3"
  },
  "language_info": {
   "codemirror_mode": {
    "name": "ipython",
    "version": 3
   },
   "file_extension": ".py",
   "mimetype": "text/x-python",
   "name": "python",
   "nbconvert_exporter": "python",
   "pygments_lexer": "ipython3",
   "version": "3.12.0"
  }
 },
 "nbformat": 4,
 "nbformat_minor": 2
}
